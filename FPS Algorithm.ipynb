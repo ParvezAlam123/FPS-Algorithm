{
 "cells": [
  {
   "cell_type": "code",
   "execution_count": 3,
   "id": "1faf4c2c",
   "metadata": {},
   "outputs": [],
   "source": [
    "import numpy as np\n",
    "import torch"
   ]
  },
  {
   "cell_type": "code",
   "execution_count": 4,
   "id": "31dc598b",
   "metadata": {},
   "outputs": [],
   "source": [
    "def fps(pcd,n_samples):\n",
    "    B,N,D=pcd.shape\n",
    "    kernel=torch.zeros(B,n_samples,D)\n",
    "    \n",
    "    \n",
    "    for n in range(B):\n",
    "        \n",
    "        points=np.array(pcd[n])\n",
    "        \n",
    "        points_left=np.arange(len(points))\n",
    "        \n",
    "        sample_inds=np.zeros(n_samples,dtype='int')\n",
    "        \n",
    "        dists=np.ones_like(points_left)*float('inf')\n",
    "        \n",
    "        selected=0\n",
    "        sample_inds[0]=points_left[selected]\n",
    "        \n",
    "        points_left=np.delete(points_left,selected)\n",
    "        \n",
    "        for i in range(1, n_samples):\n",
    "            \n",
    "            last_added=sample_inds[i-1]\n",
    "            \n",
    "            dist_to_last_added_point =((points[last_added]-points[points_left])**2).sum(-1)\n",
    "            \n",
    "            dists[points_left]=np.minimum(dist_to_last_added_point, dists[points_left])\n",
    "            \n",
    "            selected=np.argmax(dists[points_left])\n",
    "            sample_inds[i]=points_left[selected]\n",
    "            \n",
    "            points_left=np.delete(points_left, selected)\n",
    "            \n",
    "        kernel[n]=torch.from_numpy(points[sample_inds])\n",
    "    \n",
    "    return kernel\n"
   ]
  },
  {
   "cell_type": "code",
   "execution_count": 5,
   "id": "c65bf6ec",
   "metadata": {},
   "outputs": [
    {
     "name": "stdout",
     "output_type": "stream",
     "text": [
      "tensor([[[-0.6551,  0.3189, -0.5412],\n",
      "         [ 0.8276, -2.4293, -0.6499],\n",
      "         [ 0.8453,  1.4229, -0.9246],\n",
      "         ...,\n",
      "         [-0.2603, -0.9830, -0.7262],\n",
      "         [-0.3644,  0.1868, -0.6860],\n",
      "         [-0.1579,  1.1087,  0.2873]]])\n",
      "tensor([[[-6.5509e-01,  3.1892e-01, -5.4124e-01],\n",
      "         [ 2.8644e-01, -1.4461e-01,  3.8719e+00],\n",
      "         [ 2.2407e+00, -2.2036e+00, -1.1752e+00],\n",
      "         [ 2.2819e+00,  1.8022e+00,  9.4324e-01],\n",
      "         [-1.4547e-01, -2.5785e+00,  1.6011e+00],\n",
      "         [-5.7087e-01,  2.1486e+00,  2.1430e+00],\n",
      "         [ 8.3750e-01, -1.0484e-01, -3.0853e+00],\n",
      "         [ 3.1032e+00, -9.7013e-01,  1.3251e+00],\n",
      "         [-2.6779e+00,  6.5969e-01, -2.6097e+00],\n",
      "         [-2.0503e+00, -2.0075e+00, -1.0050e+00],\n",
      "         [-1.9781e+00, -9.4787e-02,  1.9469e+00],\n",
      "         [-2.6772e+00,  1.6479e+00,  3.9787e-01],\n",
      "         [ 1.7352e+00,  5.4863e-02, -6.0050e-01],\n",
      "         [ 5.4691e-01,  8.9100e-02,  1.5210e+00],\n",
      "         [-4.2931e-01,  2.8248e+00,  2.0871e-03],\n",
      "         [ 6.5345e-02, -1.8266e+00, -1.5096e+00],\n",
      "         [ 7.9186e-01,  1.8255e+00, -2.1158e+00],\n",
      "         [ 1.4272e+00, -1.7134e+00,  7.0203e-01],\n",
      "         [-7.9004e-01, -1.3137e+00,  3.1481e-01],\n",
      "         [ 7.3598e-01,  1.3654e+00,  1.6410e-01],\n",
      "         [-2.5225e+00, -1.9700e+00,  6.9870e-01],\n",
      "         [ 1.9366e+00,  2.2627e+00, -9.6085e-01],\n",
      "         [-1.0485e+00,  4.0265e-01, -2.9319e+00],\n",
      "         [-3.1916e+00, -2.0884e-01, -1.3041e+00],\n",
      "         [-2.5758e+00, -3.3006e-01,  4.2731e-01],\n",
      "         [-1.2433e+00,  1.8610e+00, -1.0443e+00],\n",
      "         [-1.2633e+00,  1.0778e+00,  9.8801e-01],\n",
      "         [ 1.5104e+00, -1.2936e+00, -2.3197e+00],\n",
      "         [-6.6700e-01, -8.4642e-01,  2.3010e+00],\n",
      "         [ 3.5776e-01, -2.4715e-01, -1.5600e+00],\n",
      "         [-1.2371e+00, -9.9877e-01, -1.8016e+00],\n",
      "         [ 5.6845e-01, -6.8122e-01, -5.2070e-02],\n",
      "         [ 1.1912e+00,  1.0501e+00,  2.3850e+00],\n",
      "         [-2.0089e+00,  6.7507e-01, -7.7988e-01],\n",
      "         [-4.0865e-01, -2.4969e+00, -3.7702e-01],\n",
      "         [ 3.1898e-01,  2.6355e+00,  1.2143e+00],\n",
      "         [ 2.2053e+00,  4.3700e-01,  9.0264e-01],\n",
      "         [ 4.8205e-01, -1.2335e+00,  1.5684e+00],\n",
      "         [ 1.1963e-01,  1.9418e+00, -9.9598e-01],\n",
      "         [ 2.7007e+00,  8.0128e-01, -1.0483e+00],\n",
      "         [-4.3547e-01, -1.9651e-02,  6.9962e-01],\n",
      "         [ 9.5570e-01, -2.1171e+00, -4.1772e-01],\n",
      "         [-7.4176e-01,  8.6706e-01, -1.6620e+00],\n",
      "         [ 2.1121e+00, -1.1237e+00, -4.5089e-01],\n",
      "         [ 6.0661e-01, -7.6467e-01,  2.8690e+00],\n",
      "         [-2.0619e+00,  1.4183e+00,  1.8400e+00],\n",
      "         [-4.2355e-01,  4.7420e-01,  2.1338e+00],\n",
      "         [ 1.3524e-01,  6.7502e-01, -2.4561e+00],\n",
      "         [ 2.1878e-01, -1.0068e+00, -2.5954e+00],\n",
      "         [-4.2645e-01, -8.9562e-01, -7.4395e-01]]])\n"
     ]
    }
   ],
   "source": [
    "t=torch.randn(1,1000,3)\n",
    "\n",
    "a=fps(t,50)\n",
    "print(t)\n",
    "print(a)"
   ]
  },
  {
   "cell_type": "code",
   "execution_count": 6,
   "id": "c1173381",
   "metadata": {},
   "outputs": [
    {
     "name": "stdout",
     "output_type": "stream",
     "text": [
      "Jupyter environment detected. Enabling Open3D WebVisualizer.\n",
      "[Open3D INFO] WebRTC GUI backend enabled.\n",
      "[Open3D INFO] WebRTCWindowSystem: HTTP handshake server disabled.\n"
     ]
    }
   ],
   "source": [
    "import open3d as o3d\n",
    "\n",
    "geom=o3d.geometry.PointCloud()\n",
    "geom.points=o3d.utility.Vector3dVector(t[0])\n",
    "\n",
    "o3d.visualization.draw_geometries([geom])"
   ]
  },
  {
   "cell_type": "code",
   "execution_count": 15,
   "id": "6743ccd5",
   "metadata": {},
   "outputs": [],
   "source": [
    "geom=o3d.geometry.PointCloud()\n",
    "geom.points=o3d.utility.Vector3dVector(a[0])\n",
    "\n",
    "o3d.visualization.draw_geometries([geom])"
   ]
  },
  {
   "cell_type": "code",
   "execution_count": null,
   "id": "aa6be514",
   "metadata": {},
   "outputs": [],
   "source": []
  }
 ],
 "metadata": {
  "kernelspec": {
   "display_name": "Python 3 (ipykernel)",
   "language": "python",
   "name": "python3"
  },
  "language_info": {
   "codemirror_mode": {
    "name": "ipython",
    "version": 3
   },
   "file_extension": ".py",
   "mimetype": "text/x-python",
   "name": "python",
   "nbconvert_exporter": "python",
   "pygments_lexer": "ipython3",
   "version": "3.8.10"
  }
 },
 "nbformat": 4,
 "nbformat_minor": 5
}
