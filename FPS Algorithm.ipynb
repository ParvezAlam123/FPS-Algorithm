{
 "cells": [
  {
   "cell_type": "code",
   "execution_count": 1,
   "id": "1faf4c2c",
   "metadata": {},
   "outputs": [],
   "source": [
    "import numpy as np\n",
    "import torch"
   ]
  },
  {
   "cell_type": "code",
   "execution_count": 6,
   "id": "31dc598b",
   "metadata": {},
   "outputs": [],
   "source": [
    "def fps(points, n_samples):\n",
    "    \n",
    "    B,N,D=points.shape\n",
    "    \n",
    "    points_left=np.arange(N)\n",
    "    \n",
    "    sample_inds=np.zeros(n_samples, dtype='int')\n",
    "    \n",
    "    dists=np.array(torch.ones(B,N)*float('inf'))\n",
    "    \n",
    "    \n",
    "    selected=0\n",
    "    \n",
    "    sample_inds[0]=points_left[selected]\n",
    "    \n",
    "    points_left=np.delete(points_left,selected)\n",
    "    \n",
    "    for i in range(1,n_samples):\n",
    "        \n",
    "        last_added=sample_inds[i-1]\n",
    "        \n",
    "        dist_to_last_added_point = ((points[:, last_added,:]-points[:,points_left,:])**2).sum(-1)\n",
    "        \n",
    "        dists[:,points_left]=np.minimum(dist_to_last_added_point, dists[:,points_left])\n",
    "        \n",
    "        selected=np.argmax(dists[:,points_left])\n",
    "        sample_inds[i]=points_left[selected]\n",
    "        \n",
    "        points_left = np.delete(points_left, selected)\n",
    "        \n",
    "    return points[:,sample_inds]\n"
   ]
  },
  {
   "cell_type": "code",
   "execution_count": 13,
   "id": "c65bf6ec",
   "metadata": {},
   "outputs": [
    {
     "name": "stdout",
     "output_type": "stream",
     "text": [
      "tensor([[[-0.9515, -1.7931, -0.3231],\n",
      "         [-0.1619, -1.0084, -1.0643],\n",
      "         [ 1.0686, -1.5726,  0.2449],\n",
      "         ...,\n",
      "         [ 0.3416,  0.3633,  1.8416],\n",
      "         [ 0.2084, -0.7582,  2.1053],\n",
      "         [-0.6720, -1.0220,  0.2946]]])\n",
      "tensor([[[-0.9515, -1.7931, -0.3231],\n",
      "         [ 4.0963, -0.8432,  2.6008],\n",
      "         [-2.4247,  3.2270, -0.7638],\n",
      "         [ 0.4039,  1.8412,  2.4346],\n",
      "         [ 2.0847,  0.2922, -2.1621],\n",
      "         [-2.6887, -0.8057,  2.0750],\n",
      "         [ 1.3744, -0.8597,  1.3168],\n",
      "         [-0.8280,  0.8152, -1.7544],\n",
      "         [-3.0254, -1.7219, -1.9928],\n",
      "         [ 1.3687,  2.0168, -0.2830],\n",
      "         [-2.7443,  0.6772, -0.0631],\n",
      "         [ 1.4323, -2.5724, -0.4067],\n",
      "         [-0.4953,  0.5598,  0.6514],\n",
      "         [ 2.8689,  1.2545,  1.2477],\n",
      "         [-0.9072, -1.4703, -2.7364],\n",
      "         [ 1.3888,  0.2148,  3.2933],\n",
      "         [ 0.6928, -0.6374, -0.7786],\n",
      "         [-0.5035,  3.0230,  1.0272],\n",
      "         [ 1.8888, -1.6715, -2.4760],\n",
      "         [-1.0758, -0.0527,  2.8541],\n",
      "         [ 0.4656,  2.6456, -1.8333],\n",
      "         [ 2.8864, -0.7165,  0.2249],\n",
      "         [ 0.2050, -2.7196, -2.0096],\n",
      "         [-0.0574, -1.9545,  1.3408],\n",
      "         [-1.7805,  1.6508,  0.9277],\n",
      "         [ 1.4209,  0.5994,  0.6057],\n",
      "         [-1.3909, -0.8125,  1.1266],\n",
      "         [-1.2859, -0.1947, -0.5164],\n",
      "         [-2.2542,  1.4772, -1.3390],\n",
      "         [-0.5017,  2.1037, -0.2458],\n",
      "         [ 0.5419,  0.2686,  1.9521],\n",
      "         [ 0.6783,  1.0350, -1.9447],\n",
      "         [ 1.3378,  2.3773,  1.1935],\n",
      "         [ 0.3748, -0.8506,  3.0031],\n",
      "         [ 2.6853, -1.1127, -1.3507],\n",
      "         [ 3.0296,  0.7427, -0.1187],\n",
      "         [ 0.3071, -0.8004, -2.3934],\n",
      "         [-2.6205, -0.7283,  0.0447],\n",
      "         [ 4.1103,  0.6186,  1.0118],\n",
      "         [ 0.4246,  0.6558, -0.3883],\n",
      "         [-0.8589,  1.5243,  1.9928],\n",
      "         [ 0.1888, -0.6255,  0.6115],\n",
      "         [-1.7436, -1.5072, -1.5692],\n",
      "         [ 0.2691, -1.9035, -0.8996],\n",
      "         [ 1.5486,  1.1487,  1.8906],\n",
      "         [ 1.6190,  0.7187, -0.9849],\n",
      "         [ 1.4788, -2.1676,  1.3011],\n",
      "         [-2.2331,  0.2284,  1.0571],\n",
      "         [ 0.2904,  1.6827,  0.8406],\n",
      "         [ 0.1792, -2.9899,  0.5825]]])\n"
     ]
    }
   ],
   "source": [
    "t=torch.randn(1,1000,3)\n",
    "\n",
    "a=fps(t,50)\n",
    "print(t)\n",
    "print(a)"
   ]
  },
  {
   "cell_type": "code",
   "execution_count": 14,
   "id": "c1173381",
   "metadata": {},
   "outputs": [],
   "source": [
    "import open3d as o3d\n",
    "\n",
    "geom=o3d.geometry.PointCloud()\n",
    "geom.points=o3d.utility.Vector3dVector(t[0])\n",
    "\n",
    "o3d.visualization.draw_geometries([geom])"
   ]
  },
  {
   "cell_type": "code",
   "execution_count": 15,
   "id": "6743ccd5",
   "metadata": {},
   "outputs": [],
   "source": [
    "geom=o3d.geometry.PointCloud()\n",
    "geom.points=o3d.utility.Vector3dVector(a[0])\n",
    "\n",
    "o3d.visualization.draw_geometries([geom])"
   ]
  },
  {
   "cell_type": "code",
   "execution_count": null,
   "id": "aa6be514",
   "metadata": {},
   "outputs": [],
   "source": []
  }
 ],
 "metadata": {
  "kernelspec": {
   "display_name": "Python 3 (ipykernel)",
   "language": "python",
   "name": "python3"
  },
  "language_info": {
   "codemirror_mode": {
    "name": "ipython",
    "version": 3
   },
   "file_extension": ".py",
   "mimetype": "text/x-python",
   "name": "python",
   "nbconvert_exporter": "python",
   "pygments_lexer": "ipython3",
   "version": "3.8.10"
  }
 },
 "nbformat": 4,
 "nbformat_minor": 5
}
